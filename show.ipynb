{
 "cells": [
  {
   "cell_type": "code",
   "execution_count": null,
   "metadata": {},
   "outputs": [],
   "source": [
    "import paddle\n",
    "import paddle.nn as nn\n",
    "import os\n",
    "import numpy as np\n",
    "import math\n",
    "from math import sqrt\n",
    "from Embed import DataEmbedding\n",
    "import argparse\n",
    "from dataloader import pygmmdataLoader\n",
    "from tqdm import tqdm\n",
    "from SATFNet import Gat_TimesNet_mm"
   ]
  },
  {
   "cell_type": "code",
   "execution_count": null,
   "metadata": {},
   "outputs": [],
   "source": [
    "args=  {\n",
    "                \"task_name\": \"forecast\",\n",
    "                \"output_attention\": True,\n",
    "                \"seq_len\": 72,\n",
    "                \"label_len\": 24,\n",
    "                \"pred_len\": 48,\n",
    "\n",
    "                \"aq_gat_node_features\" : 7,\n",
    "                \"aq_gat_node_num\": 35,\n",
    "\n",
    "                \"mete_gat_node_features\" : 7,\n",
    "                \"mete_gat_node_num\": 18,\n",
    "\n",
    "                \"gat_hidden_dim\": 32,\n",
    "                \"gat_edge_dim\": 3,\n",
    "                \"gat_embed_dim\": 32,\n",
    "\n",
    "                \"e_layers\": 1,\n",
    "                \"enc_in\": 32,\n",
    "                \"dec_in\": 7,\n",
    "                \"c_out\": 7,\n",
    "                \"d_model\": 16 ,\n",
    "                \"embed\": \"fixed\",\n",
    "                \"freq\": \"t\",\n",
    "                \"dropout\": 0.05,\n",
    "                \"factor\": 3,\n",
    "                \"n_heads\": 4,\n",
    "\n",
    "                \"d_ff\": 32 ,\n",
    "                \"num_kernels\": 6,\n",
    "                \"top_k\": 4\n",
    "            }\n",
    "dataLoader_args = {\n",
    "            \"data_dir\": \"data/2020-2023_new/train_data.pkl\",\n",
    "            \"batch_size\": 32,\n",
    "            \"shuffle\": True,\n",
    "            \"num_workers\": 0,\n",
    "            \"training\": True\n",
    "        }\n",
    "valid_loader_args=  {\n",
    "            \"data_dir\": \"data/2020-2023_new/val_data.pkl\",\n",
    "            \"batch_size\": 32,\n",
    "            \"shuffle\": False,\n",
    "            \"num_workers\": 0,\n",
    "            \"training\": False\n",
    "        }\n",
    "dataloader = pygmmdataLoader(args,**dataLoader_args)\n",
    "valid_loader = pygmmdataLoader(args,**valid_loader_args)"
   ]
  },
  {
   "cell_type": "code",
   "execution_count": null,
   "metadata": {},
   "outputs": [],
   "source": [
    "model = Gat_TimesNet_mm(args)"
   ]
  }
 ],
 "metadata": {
  "language_info": {
   "name": "python"
  }
 },
 "nbformat": 4,
 "nbformat_minor": 2
}
